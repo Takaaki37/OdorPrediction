{
 "cells": [
  {
   "cell_type": "code",
   "execution_count": null,
   "metadata": {
    "executionInfo": {
     "elapsed": 711,
     "status": "ok",
     "timestamp": 1664765324640,
     "user": {
      "displayName": "Takaaki Ishii",
      "userId": "10147196884984815882"
     },
     "user_tz": -540
    },
    "id": "ofPPginxrPKh",
    "pycharm": {
     "name": "#%%\n"
    }
   },
   "outputs": [],
   "source": [
    "from PIL import Image, ImageFilter, ImageOps\n",
    "import matplotlib.pyplot as plt\n",
    "import pyocr\n",
    "import numpy as np\n",
    "import cv2\n",
    "import glob\n",
    "\n",
    "def cv2pil(image):\n",
    "    new_image = image.copy()\n",
    "    if new_image.ndim == 2:  # モノクロ\n",
    "        pass\n",
    "    elif new_image.shape[2] == 3:  # カラー\n",
    "        new_image = cv2.cvtColor(new_image, cv2.COLOR_BGR2RGB)\n",
    "    elif new_image.shape[2] == 4:  # 透過\n",
    "        new_image = cv2.cvtColor(new_image, cv2.COLOR_BGRA2RGBA)\n",
    "    new_image = Image.fromarray(new_image)\n",
    "    return new_image\n",
    "def pil2cv(image):\n",
    "    new_image = np.array(image, dtype=np.uint8)\n",
    "    if new_image.ndim == 2:  # モノクロ\n",
    "        pass\n",
    "    elif new_image.shape[2] == 3:  # カラー\n",
    "        new_image = cv2.cvtColor(new_image, cv2.COLOR_RGB2BGR)\n",
    "    elif new_image.shape[2] == 4:  # 透過\n",
    "        new_image = cv2.cvtColor(new_image, cv2.COLOR_RGBA2BGRA)\n",
    "    return new_image\n",
    "\n",
    "def is_num(s):\n",
    "    try:\n",
    "        float(s)\n",
    "    except ValueError:\n",
    "        return False\n",
    "    else:\n",
    "        return True"
   ]
  },
  {
   "cell_type": "code",
   "execution_count": null,
   "metadata": {
    "colab": {
     "base_uri": "https://localhost:8080/",
     "height": 287
    },
    "executionInfo": {
     "elapsed": 1475,
     "status": "ok",
     "timestamp": 1664765326111,
     "user": {
      "displayName": "Takaaki Ishii",
      "userId": "10147196884984815882"
     },
     "user_tz": -540
    },
    "id": "3Y-pfslhe7UA",
    "outputId": "32eb386a-e043-4db9-e98a-833631ff51e5",
    "pycharm": {
     "name": "#%%\n"
    }
   },
   "outputs": [],
   "source": [
    "from PIL import Image\n",
    "import matplotlib.pyplot as plt\n",
    "import pyocr\n",
    "import numpy as np\n",
    "import cv2\n",
    "import glob\n",
    "\n",
    "img = cv2.imread('logger/frame_0002.jpg')\n",
    "\n",
    "img_RGB = cv2.cvtColor(img, cv2.COLOR_BGR2RGB)\n",
    "\n",
    "plt.imshow(img_RGB)\n"
   ]
  },
  {
   "cell_type": "code",
   "execution_count": null,
   "metadata": {
    "colab": {
     "base_uri": "https://localhost:8080/",
     "height": 287
    },
    "executionInfo": {
     "elapsed": 634,
     "status": "ok",
     "timestamp": 1664765329427,
     "user": {
      "displayName": "Takaaki Ishii",
      "userId": "10147196884984815882"
     },
     "user_tz": -540
    },
    "id": "OmCmrKQre73w",
    "outputId": "cc227a79-6b9f-4e5e-8a06-d13825b54cef",
    "pycharm": {
     "name": "#%%\n"
    }
   },
   "outputs": [],
   "source": [
    "plt.gray()\n",
    "im_gray = cv2.cvtColor(img, cv2.COLOR_BGR2GRAY)\n",
    "\n",
    "plt.imshow(im_gray)"
   ]
  },
  {
   "cell_type": "code",
   "execution_count": null,
   "metadata": {
    "colab": {
     "base_uri": "https://localhost:8080/",
     "height": 225
    },
    "executionInfo": {
     "elapsed": 6,
     "status": "ok",
     "timestamp": 1664765329669,
     "user": {
      "displayName": "Takaaki Ishii",
      "userId": "10147196884984815882"
     },
     "user_tz": -540
    },
    "id": "9-wui4KXe752",
    "outputId": "de7e15c8-27f0-4127-c70c-1f8e612bb349",
    "pycharm": {
     "name": "#%%\n"
    }
   },
   "outputs": [],
   "source": [
    "# [y:y+h, x:x+w]\n",
    "# img_tr = im_gray[300:800, 5:740]\n",
    "img_tr1 = im_gray[20:140, 110:400]\n",
    "img_tr2 = im_gray[20:140, 500:800]\n",
    "# img_tr3 = im_gray[106:138, 400:500]\n",
    "# img_tr4 = im_gray[172:200, 400:500]\n",
    "\n",
    "plt.imshow(img_tr1)\n",
    "\n",
    "# cv2.imwrite('tirm.jpg', img_tr)"
   ]
  },
  {
   "cell_type": "code",
   "execution_count": null,
   "metadata": {
    "colab": {
     "base_uri": "https://localhost:8080/",
     "height": 225
    },
    "executionInfo": {
     "elapsed": 498,
     "status": "ok",
     "timestamp": 1664765331164,
     "user": {
      "displayName": "Takaaki Ishii",
      "userId": "10147196884984815882"
     },
     "user_tz": -540
    },
    "id": "BfZSrA9Te79y",
    "outputId": "c7065980-21f5-470b-92f2-a5c8385824ea",
    "pycharm": {
     "name": "#%%\n"
    }
   },
   "outputs": [],
   "source": [
    "ret1, dst1 = cv2.threshold(img_tr1, 128, 255, cv2.THRESH_OTSU)\n",
    "ret2, dst2 = cv2.threshold(img_tr2, 128, 255, cv2.THRESH_OTSU)\n",
    "# ret3, dst3 = cv2.threshold(img_tr3, 128, 255, cv2.THRESH_OTSU)\n",
    "# ret4, dst4 = cv2.threshold(img_tr4, 128, 255, cv2.THRESH_OTSU)\n",
    "plt.imshow(dst1)\n",
    "print(ret1)\n",
    "#   th, im_otsu = cv2.threshold(pil2cv(gray_img), 128, 192, cv2.THRESH_OTSU)"
   ]
  },
  {
   "cell_type": "code",
   "execution_count": null,
   "metadata": {
    "colab": {
     "base_uri": "https://localhost:8080/",
     "height": 225
    },
    "executionInfo": {
     "elapsed": 647,
     "status": "ok",
     "timestamp": 1664765332548,
     "user": {
      "displayName": "Takaaki Ishii",
      "userId": "10147196884984815882"
     },
     "user_tz": -540
    },
    "id": "qj0NXHbne8AI",
    "outputId": "4b703d17-7ecc-49e8-dfab-dd11e7a92b41",
    "pycharm": {
     "name": "#%%\n"
    }
   },
   "outputs": [],
   "source": [
    "# 色の反転\n",
    "img_thresh1 = cv2.bitwise_not(img_tr1)\n",
    "img_thresh2 = cv2.bitwise_not(dst2)\n",
    "# img_thresh3 = cv2.bitwise_not(dst3)\n",
    "# img_thresh4 = cv2.bitwise_not(dst4)\n",
    "\n",
    "plt.imshow(img_thresh1)\n",
    "# cv2.imwrite('trin_反転.jpg', img_thresh)"
   ]
  },
  {
   "cell_type": "code",
   "execution_count": null,
   "metadata": {
    "colab": {
     "base_uri": "https://localhost:8080/"
    },
    "executionInfo": {
     "elapsed": 1186,
     "status": "ok",
     "timestamp": 1664765334823,
     "user": {
      "displayName": "Takaaki Ishii",
      "userId": "10147196884984815882"
     },
     "user_tz": -540
    },
    "id": "TsOndGQCfJ_G",
    "outputId": "f3d926e3-728f-43d6-d3a2-36845d0a6f4b",
    "pycharm": {
     "name": "#%%\n"
    }
   },
   "outputs": [],
   "source": [
    "\n",
    "tools = pyocr.get_available_tools()\n",
    "tool = tools[0]\n",
    "\n",
    "pil_image = Image.fromarray(img_thresh1)\n",
    "\n",
    "txt = tool.image_to_string(\n",
    "  pil_image,\n",
    "  lang='jpn',\n",
    "  # lang='eng',\n",
    "  builder=pyocr.builders.DigitBuilder(tesseract_layout=6)\n",
    ")\n",
    "print(txt)"
   ]
  },
  {
   "cell_type": "code",
   "execution_count": null,
   "metadata": {
    "colab": {
     "base_uri": "https://localhost:8080/",
     "height": 1000
    },
    "executionInfo": {
     "elapsed": 477427,
     "status": "ok",
     "timestamp": 1664768235647,
     "user": {
      "displayName": "Takaaki Ishii",
      "userId": "10147196884984815882"
     },
     "user_tz": -540
    },
    "id": "W_W9eqg1rPKm",
    "outputId": "75766711-3a0e-4b66-8dbb-27be18f9e8ec",
    "pycharm": {
     "name": "#%%\n"
    }
   },
   "outputs": [],
   "source": [
    "'''\n",
    "画像処理+文字認識\n",
    "'''\n",
    "cl_lst = []\n",
    "file_lst = []\n",
    "engines = pyocr.get_available_tools()\n",
    "engine = engines[0]\n",
    "files = glob.glob(\"yoshimi/*\")\n",
    "files.sort()\n",
    "for file in files:\n",
    "    '''\n",
    "    ===========画像処理開始==========\n",
    "    '''\n",
    "    #グレースケール\n",
    "    img = cv2.imread(file)\n",
    "    # img_RGB = cv2.cvtColor(img, cv2.COLOR_BGR2RGB)\n",
    "    plt.gray()\n",
    "    im_gray = cv2.cvtColor(img, cv2.COLOR_BGR2GRAY)\n",
    "    # img_tr = im_gray[620:660, 650:735]\n",
    "    img_tr1 = im_gray[42:72, 450:500]\n",
    "    img_tr2 = im_gray[73:105, 400:500]\n",
    "    img_tr3 = im_gray[106:138, 400:500]\n",
    "    img_tr4 = im_gray[172:200, 400:500]\n",
    "\n",
    "\n",
    "    ret1, dst1 = cv2.threshold(img_tr1, 128, 255, cv2.THRESH_OTSU)\n",
    "    ret2, dst2 = cv2.threshold(img_tr2, 128, 255, cv2.THRESH_OTSU)\n",
    "    ret3, dst3 = cv2.threshold(img_tr3, 128, 255, cv2.THRESH_OTSU)\n",
    "    ret4, dst4 = cv2.threshold(img_tr4, 128, 255, cv2.THRESH_OTSU)\n",
    "    img_thresh1 = cv2.bitwise_not(dst1)\n",
    "    img_thresh2 = cv2.bitwise_not(dst2)\n",
    "    img_thresh3 = cv2.bitwise_not(dst3)\n",
    "    img_thresh4 = cv2.bitwise_not(dst4)\n",
    "    \n",
    "    \n",
    "    a = file[1:]\n",
    "    # print(a)\n",
    "    cv2.imwrite('result/' + a, img_thresh4)\n",
    "    pil_image = Image.fromarray(img_thresh4)\n",
    "    #文字認識\n",
    "    txt = engine.image_to_string(pil_image, lang=\"eng\",\n",
    "                                 builder=pyocr.builders.TextBuilder(tesseract_layout=6))\n",
    "    # at = txt.find(\"mg\")\n",
    "    print(\"==========\", file, \"==========\")\n",
    "    print(txt)\n",
    "    \n",
    "    if not txt:\n",
    "        cl_lst.append(-100)\n",
    "    else:\n",
    "        cl_lst.append(txt)\n",
    "    \n",
    "    file_lst.append(file)\n",
    "    \n"
   ]
  },
  {
   "cell_type": "code",
   "execution_count": null,
   "metadata": {
    "executionInfo": {
     "elapsed": 603,
     "status": "ok",
     "timestamp": 1664768889305,
     "user": {
      "displayName": "Takaaki Ishii",
      "userId": "10147196884984815882"
     },
     "user_tz": -540
    },
    "id": "caK3HYbosNGT",
    "pycharm": {
     "name": "#%%\n"
    }
   },
   "outputs": [],
   "source": [
    "import pandas as pd\n",
    "cl = pd.DataFrame(cl_lst)\n",
    "f_lst = pd.DataFrame(file_lst)"
   ]
  },
  {
   "cell_type": "code",
   "execution_count": null,
   "metadata": {
    "colab": {
     "base_uri": "https://localhost:8080/",
     "height": 423
    },
    "executionInfo": {
     "elapsed": 317,
     "status": "ok",
     "timestamp": 1664774563727,
     "user": {
      "displayName": "Takaaki Ishii",
      "userId": "10147196884984815882"
     },
     "user_tz": -540
    },
    "id": "ma8ZOImW9Vdm",
    "outputId": "6250d098-1d6f-4031-c26f-3fffcbcb711b",
    "pycharm": {
     "name": "#%%\n"
    }
   },
   "outputs": [],
   "source": [
    "df = pd.concat([f_lst, cl], axis=1)\n",
    "df"
   ]
  },
  {
   "cell_type": "code",
   "execution_count": null,
   "metadata": {
    "executionInfo": {
     "elapsed": 651,
     "status": "ok",
     "timestamp": 1664774674014,
     "user": {
      "displayName": "Takaaki Ishii",
      "userId": "10147196884984815882"
     },
     "user_tz": -540
    },
    "id": "W7txqVWpkLp9",
    "pycharm": {
     "name": "#%%\n"
    }
   },
   "outputs": [],
   "source": [
    "df.to_csv('data.csv')"
   ]
  },
  {
   "cell_type": "code",
   "execution_count": null,
   "metadata": {
    "id": "LJjdwVmWkcAr",
    "pycharm": {
     "name": "#%%\n"
    }
   },
   "outputs": [],
   "source": []
  }
 ],
 "metadata": {
  "colab": {
   "collapsed_sections": [],
   "machine_shape": "hm",
   "provenance": []
  },
  "kernelspec": {
   "display_name": "tensor",
   "language": "python",
   "name": "tensor"
  },
  "language_info": {
   "codemirror_mode": {
    "name": "ipython",
    "version": 3
   },
   "file_extension": ".py",
   "mimetype": "text/x-python",
   "name": "python",
   "nbconvert_exporter": "python",
   "pygments_lexer": "ipython3",
   "version": "3.6.8"
  },
  "orig_nbformat": 4,
  "vscode": {
   "interpreter": {
    "hash": "ebaca5b136cdac81a9fd46d14dbd56f831d12ff78e4ab53cc402fd54ab9e1c9e"
   }
  }
 },
 "nbformat": 4,
 "nbformat_minor": 0
}
