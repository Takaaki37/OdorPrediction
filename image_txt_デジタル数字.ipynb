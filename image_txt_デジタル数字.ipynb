{
 "cells": [
  {
   "cell_type": "code",
   "execution_count": null,
   "metadata": {
    "executionInfo": {
     "elapsed": 711,
     "status": "ok",
     "timestamp": 1664765324640,
     "user": {
      "displayName": "Takaaki Ishii",
      "userId": "10147196884984815882"
     },
     "user_tz": -540
    },
    "id": "ofPPginxrPKh",
    "pycharm": {
     "name": "#%%\n"
    }
   },
   "outputs": [],
   "source": [
    "# 必要なライブラリをインポートします\n",
    "# PILは画像処理用、matplotlibは可視化用、pyocrはOCR用、numpyは数値演算用、cv2は画像操作用、globはファイルパス処理用です\n",
    "\n",
    "from PIL import Image, ImageFilter, ImageOps\n",
    "import matplotlib.pyplot as plt\n",
    "import pyocr\n",
    "import numpy as np\n",
    "import cv2\n",
    "import glob\n",
    "import pandas as pd\n",
    "\n",
    "# 画像をPIL形式からOpenCV形式に変換する関数\n",
    "def cv2pil(image):\n",
    "    new_image = image.copy()\n",
    "    if new_image.ndim == 2:  # モノクロ画像の場合\n",
    "        pass\n",
    "    elif new_image.shape[2] == 3:  # カラー画像の場合\n",
    "        new_image = cv2.cvtColor(new_image, cv2.COLOR_BGR2RGB)\n",
    "    elif new_image.shape[2] == 4:  # 透過色を含む画像の場合\n",
    "        new_image = cv2.cvtColor(new_image, cv2.COLOR_BGRA2RGBA)\n",
    "    new_image = Image.fromarray(new_image)\n",
    "    return new_image\n",
    "\n",
    "# OpenCV形式からPIL形式に変換する関数\n",
    "def pil2cv(image):\n",
    "    new_image = np.array(image, dtype=np.uint8)\n",
    "    if new_image.ndim == 2:  # モノクロ画像の場合\n",
    "        pass\n",
    "    elif new_image.shape[2] == 3:  # カラー画像の場合\n",
    "        new_image = cv2.cvtColor(new_image, cv2.COLOR_RGB2BGR)\n",
    "    elif new_image.shape[2] == 4:  # 透過色を含む画像の場合\n",
    "        new_image = cv2.cvtColor(new_image, cv2.COLOR_RGBA2BGRA)\n",
    "    return new_image\n",
    "\n",
    "# 文字列が数値に変換可能かどうかを判定する関数\n",
    "def is_num(s):\n",
    "    try:\n",
    "        float(s)  # 文字列をfloat型に変換を試みる\n",
    "    except ValueError:  # 変換できない場合はFalseを返す\n",
    "        return False\n",
    "    else:  # 変換できる場合はTrueを返す\n",
    "        return True\n"
   ]
  },
  {
   "cell_type": "code",
   "execution_count": null,
   "metadata": {
    "colab": {
     "base_uri": "https://localhost:8080/",
     "height": 287
    },
    "executionInfo": {
     "elapsed": 1475,
     "status": "ok",
     "timestamp": 1664765326111,
     "user": {
      "displayName": "Takaaki Ishii",
      "userId": "10147196884984815882"
     },
     "user_tz": -540
    },
    "id": "3Y-pfslhe7UA",
    "outputId": "32eb386a-e043-4db9-e98a-833631ff51e5",
    "pycharm": {
     "name": "#%%\n"
    }
   },
   "outputs": [],
   "source": [
    "# 座標を特定するために，1つの画像を使用します．\n",
    "img = cv2.imread(image_path)\n",
    "img_RGB = cv2.cvtColor(img, cv2.COLOR_BGR2RGB)\n",
    "plt.gray()\n",
    "im_gray = cv2.cvtColor(img, cv2.COLOR_BGR2GRAY)\n",
    "plt.imshow(im_gray)"
   ]
  },
  {
   "cell_type": "code",
   "execution_count": null,
   "metadata": {
    "colab": {
     "base_uri": "https://localhost:8080/",
     "height": 225
    },
    "executionInfo": {
     "elapsed": 6,
     "status": "ok",
     "timestamp": 1664765329669,
     "user": {
      "displayName": "Takaaki Ishii",
      "userId": "10147196884984815882"
     },
     "user_tz": -540
    },
    "id": "9-wui4KXe752",
    "outputId": "de7e15c8-27f0-4127-c70c-1f8e612bb349",
    "pycharm": {
     "name": "#%%\n"
    }
   },
   "outputs": [],
   "source": [
    "# 座標を特定します。数値は画像によって最適化する必要があります。\n",
    "# [y:y+h, x:x+w]\n",
    "img_tr = im_gray[20:140, 110:400]\n",
    "plt.imshow(img_tr)"
   ]
  },
  {
   "cell_type": "code",
   "execution_count": null,
   "metadata": {},
   "outputs": [],
   "source": [
    "# デジタル数字は7つの棒で構成されています。\n",
    "\n",
    "x = 0\n",
    "y = 0\n",
    "\n",
    "# 0かどうかを判定\n",
    "if img_tr[x+5, y+25]>=150 and img_tr[x+30, y+5]>=150 and img_tr[x+30, y+35]>=150 and img_tr[x+58, y+22]<=150 and img_tr[x+80, y+5]>=150 and img_tr[x+80, y+40]>=150 and img_tr[x+100, y+25]>=150:\n",
    "    print(0)\n",
    "\n",
    "# 1かどうかを判定\n",
    "elif img_tr[x+5, y+25]<=150 and img_tr[x+30, y+5]<=150 and img_tr[x+30, y+35]>=150 and img_tr[x+58, y+22]<=150 and img_tr[x+80, y+5]<=150 and img_tr[x+80, y+40]>=150 and img_tr[x+100, y+25]<=150:\n",
    "    print(1)\n",
    "\n",
    "# 2かどうかを判定\n",
    "elif img_tr[x+5, y+25]>=150 and img_tr[x+30, y+5]<=150 and img_tr[x+30, y+35]>=150 and img_tr[x+58, y+22]>=150 and img_tr[x+80, y+5]>=150 and img_tr[x+80, y+40]<=150 and img_tr[x+100, y+25]>=150:\n",
    "    print(2)\n",
    "\n",
    "# 3かどうかを判定\n",
    "elif img_tr[x+5, y+25]>=150 and img_tr[x+30, y+5]<=150 and img_tr[x+30, y+35]>=150 and img_tr[x+58, y+22]>=150 and img_tr[x+80, y+5]<=150 and img_tr[x+80, y+40]>=150 and img_tr[x+100, y+25]>=150:\n",
    "    print(3)\n",
    "\n",
    "# 4かどうかを判定\n",
    "elif img_tr[x+5, y+25]<=150 and img_tr[x+30, y+5]>=150 and img_tr[x+30, y+35]>=150 and img_tr[x+58, y+22]>=150 and img_tr[x+80, y+5]<=150 and img_tr[x+80, y+38]>=150 and img_tr[x+100, y+25]<=150:\n",
    "    print(4)\n",
    "\n",
    "# 5かどうかを判定\n",
    "elif img_tr[x+5, y+25]>=150 and img_tr[x+30, y+5]>=150 and img_tr[x+30, y+35]<=150 and img_tr[x+58, y+22]>=150 and img_tr[x+80, y+5]<=150 and img_tr[x+80, y+40]>=150 and img_tr[x+100, y+25]>=150:\n",
    "    print(5)\n",
    "\n",
    "# 6かどうかを判定\n",
    "elif img_tr[x+5, y+25]<=150 and img_tr[x+30, y+5]>=150 and img_tr[x+30, y+35]<=150 and img_tr[x+58, y+22]>=150 and img_tr[x+80, y+5]>=150 and img_tr[x+80, y+40]>=150 and img_tr[x+100, y+25]>=150:\n",
    "    print(6)\n",
    "\n",
    "# 7かどうかを判定\n",
    "elif img_tr[x+5, y+25]>=150 and img_tr[x+30, y+5]<=150 and img_tr[x+30, y+35]>=150 and img_tr[x+58, y+22]<=150 and img_tr[x+80, y+5]<=150 and img_tr[x+80, y+40]>=150 and img_tr[x+100, y+25]<=150:\n",
    "    print(7)\n",
    "\n",
    "# 8かどうかを判定\n",
    "elif img_tr[x+5, y+25]>=150 and img_tr[x+30, y+5]>=150 and img_tr[x+30, y+35]>=150 and img_tr[x+58, y+22]>=150 and img_tr[x+80, y+5]>=150 and img_tr[x+80, y+40]>=150 and img_tr[x+100, y+25]>=150:\n",
    "    print(8)\n",
    "\n",
    "# 9かどうかを判定\n",
    "elif img_tr[x+5, y+25]>=150 and img_tr[x+30, y+5]>=150 and img_tr[x+30, y+35]>=150 and img_tr[x+58, y+22]>=150 and img_tr[x+80, y+5]<=150 and img_tr[x+80, y+40]>=150 and img_tr[x+100, y+25]>=150:\n",
    "    print(9)\n",
    "    \n",
    "# どれにも含まれない場合は以下となる。この場合はxとyの調整が必要です。\n",
    "else:\n",
    "    print('error')"
   ]
  },
  {
   "cell_type": "code",
   "execution_count": null,
   "metadata": {},
   "outputs": [],
   "source": [
    "\n",
    "# 画像ファイルのリストを取得し、時系列順にソートします。\n",
    "files = glob.glob(\"logger/*\")\n",
    "files.sort()\n",
    "\n",
    "# 数字とファイル名を格納するリストを初期化します。\n",
    "lst = []\n",
    "file_lst = []\n",
    "\n",
    "# 各ファイルに対してループ処理を行います。\n",
    "for file in files:\n",
    "    # 画像を読み込み、RGBとグレースケールに変換します。\n",
    "    img = cv2.imread(file)\n",
    "    img_RGB = cv2.cvtColor(img, cv2.COLOR_BGR2RGB)\n",
    "    im_gray = cv2.cvtColor(img, cv2.COLOR_BGR2GRAY)\n",
    "\n",
    "    # 画像をトリミングして、特定の範囲のみを抽出します。\n",
    "    img_tr1 = im_gray[25:135, 160:350]\n",
    "    img_tr2 = im_gray[25:135, 570:770]\n",
    "\n",
    "    # 2つ目のトリミング範囲を使用します。\n",
    "    img_tr = img_tr2\n",
    "\n",
    "    # xとyの座標を初期化します。\n",
    "    x = 0\n",
    "    y = 0\n",
    "\n",
    "    # 以下、0から9までの数字を判定する条件分岐です。\n",
    "    # 各数字に対して、特定のピクセルの明るさを基に判定を行います。\n",
    "    # 判定された数字はlstリストに追加され、対応するファイル名はfile_lstリストに追加されます。\n",
    "    if img_tr[x+5, y+25]>=150 and img_tr[x+30, y+5]>=150 and img_tr[x+30, y+35]>=150 and img_tr[x+58, y+22]<=150 and img_tr[x+80, y+5]>=150 and img_tr[x+80, y+35]>=150 and img_tr[x+100, y+25]>=150:\n",
    "        lst.append(0)\n",
    "        file_lst.append(file)\n",
    "    elif img_tr[x+5, y+25]<=150 and img_tr[x+30, y+5]<=150 and img_tr[x+30, y+35]>=150 and img_tr[x+58, y+22]<=150 and img_tr[x+80, y+5]<=150 and img_tr[x+80, y+35]>=150 and img_tr[x+100, y+25]<=150:\n",
    "        lst.append(1)\n",
    "        file_lst.append(file)\n",
    "    elif img_tr[x+5, y+25]>=150 and img_tr[x+30, y+5]<=150 and img_tr[x+30, y+35]>=150 and img_tr[x+58, y+22]>=150 and img_tr[x+80, y+5]>=150 and img_tr[x+80, y+35]<=150 and img_tr[x+100, y+25]>=150:\n",
    "        lst.append(2)\n",
    "        file_lst.append(file)\n",
    "    elif img_tr[x+5, y+25]>=150 and img_tr[x+30, y+5]<=150 and img_tr[x+30, y+35]>=150 and img_tr[x+58, y+22]>=150 and img_tr[x+80, y+5]<=150 and img_tr[x+80, y+35]>=150 and img_tr[x+100, y+25]>=150:\n",
    "        lst.append(3)\n",
    "        file_lst.append(file)\n",
    "    elif img_tr[x+5, y+25]<=150 and img_tr[x+30, y+5]>=150 and img_tr[x+30, y+35]>=150 and img_tr[x+58, y+22]>=150 and img_tr[x+80, y+5]<=150 and img_tr[x+80, y+35]>=150 and img_tr[x+100, y+25]<=150:\n",
    "        lst.append(4)\n",
    "        file_lst.append(file)\n",
    "    elif img_tr[x+5, y+25]>=150 and img_tr[x+30, y+5]>=150 and img_tr[x+30, y+35]<=150 and img_tr[x+58, y+22]>=150 and img_tr[x+80, y+5]<=150 and img_tr[x+80, y+35]>=150 and img_tr[x+100, y+25]>=150:\n",
    "        lst.append(5)\n",
    "        file_lst.append(file)\n",
    "    elif img_tr[x+5, y+25]<=150 and img_tr[x+30, y+5]>=150 and img_tr[x+30, y+35]<=150 and img_tr[x+58, y+22]>=150 and img_tr[x+80, y+5]>=150 and img_tr[x+80, y+35]>=150 and img_tr[x+100, y+25]>=150:\n",
    "        lst.append(6)\n",
    "        file_lst.append(file)\n",
    "    elif img_tr[x+5, y+25]>=150 and img_tr[x+30, y+5]<=150 and img_tr[x+30, y+35]>=150 and img_tr[x+58, y+22]<=150 and img_tr[x+80, y+5]<=150 and img_tr[x+80, y+35]>=150 and img_tr[x+100, y+25]<=150:\n",
    "        lst.append(7)\n",
    "        file_lst.append(file)\n",
    "    elif img_tr[x+5, y+25]>=150 and img_tr[x+30, y+5]>=150 and img_tr[x+30, y+35]>=150 and img_tr[x+58, y+22]>=150 and img_tr[x+80, y+5]>=150 and img_tr[x+80, y+35]>=150 and img_tr[x+100, y+25]>=150:\n",
    "        lst.append(8)\n",
    "        file_lst.append(file)\n",
    "    elif img_tr[x+5, y+25]>=150 and img_tr[x+30, y+5]>=150 and img_tr[x+30, y+35]>=150 and img_tr[x+58, y+22]>=150 and img_tr[x+80, y+5]<=150 and img_tr[x+80, y+35]>=150 and img_tr[x+100, y+25]>=150:\n",
    "        lst.append(9)\n",
    "        file_lst.append(file)\n",
    "    else:\n",
    "\n",
    "\n",
    "    name = [\"pre\"]\n",
    "    lst_df = pd.DataFrame(lst, columns=name)\n",
    "    name = [\"file\"]\n",
    "    file_df = pd.DataFrame(file_lst, columns=name)\n",
    "    df = pd.concat([file_df, lst_df], axis=1)\n",
    "    df.to_csv('df_' + str(y) + '.csv')"
   ]
  }
 ],
 "metadata": {
  "colab": {
   "collapsed_sections": [],
   "machine_shape": "hm",
   "provenance": []
  },
  "kernelspec": {
   "display_name": "tensor",
   "language": "python",
   "name": "python3"
  },
  "language_info": {
   "codemirror_mode": {
    "name": "ipython",
    "version": 3
   },
   "file_extension": ".py",
   "mimetype": "text/x-python",
   "name": "python",
   "nbconvert_exporter": "python",
   "pygments_lexer": "ipython3",
   "version": "3.6.8"
  },
  "orig_nbformat": 4,
  "vscode": {
   "interpreter": {
    "hash": "6bfa259300721b9f77f771144db571ce0172455e4c3cef30ab19ec25ac0b25af"
   }
  }
 },
 "nbformat": 4,
 "nbformat_minor": 0
}
