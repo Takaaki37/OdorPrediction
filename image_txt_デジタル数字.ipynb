{
 "cells": [
  {
   "cell_type": "code",
   "execution_count": null,
   "metadata": {
    "executionInfo": {
     "elapsed": 711,
     "status": "ok",
     "timestamp": 1664765324640,
     "user": {
      "displayName": "Takaaki Ishii",
      "userId": "10147196884984815882"
     },
     "user_tz": -540
    },
    "id": "ofPPginxrPKh",
    "pycharm": {
     "name": "#%%\n"
    }
   },
   "outputs": [],
   "source": [
    "from PIL import Image, ImageFilter, ImageOps\n",
    "import matplotlib.pyplot as plt\n",
    "import pyocr\n",
    "import numpy as np\n",
    "import cv2\n",
    "import glob\n",
    "\n",
    "\n",
    "\n",
    "def cv2pil(image):\n",
    "    new_image = image.copy()\n",
    "    if new_image.ndim == 2:  # モノクロ\n",
    "        pass\n",
    "    elif new_image.shape[2] == 3:  # カラー\n",
    "        new_image = cv2.cvtColor(new_image, cv2.COLOR_BGR2RGB)\n",
    "    elif new_image.shape[2] == 4:  # 透過\n",
    "        new_image = cv2.cvtColor(new_image, cv2.COLOR_BGRA2RGBA)\n",
    "    new_image = Image.fromarray(new_image)\n",
    "    return new_image\n",
    "def pil2cv(image):\n",
    "    new_image = np.array(image, dtype=np.uint8)\n",
    "    if new_image.ndim == 2:  # モノクロ\n",
    "        pass\n",
    "    elif new_image.shape[2] == 3:  # カラー\n",
    "        new_image = cv2.cvtColor(new_image, cv2.COLOR_RGB2BGR)\n",
    "    elif new_image.shape[2] == 4:  # 透過\n",
    "        new_image = cv2.cvtColor(new_image, cv2.COLOR_RGBA2BGRA)\n",
    "    return new_image\n",
    "\n",
    "def is_num(s):\n",
    "    try:\n",
    "        float(s)\n",
    "    except ValueError:\n",
    "        return False\n",
    "    else:\n",
    "        return True"
   ]
  },
  {
   "cell_type": "code",
   "execution_count": null,
   "metadata": {
    "colab": {
     "base_uri": "https://localhost:8080/",
     "height": 287
    },
    "executionInfo": {
     "elapsed": 1475,
     "status": "ok",
     "timestamp": 1664765326111,
     "user": {
      "displayName": "Takaaki Ishii",
      "userId": "10147196884984815882"
     },
     "user_tz": -540
    },
    "id": "3Y-pfslhe7UA",
    "outputId": "32eb386a-e043-4db9-e98a-833631ff51e5",
    "pycharm": {
     "name": "#%%\n"
    }
   },
   "outputs": [],
   "source": [
    "\n",
    "\n",
    "# img = cv2.imread('yoshimi/frame_1104.jpg')\n",
    "img = cv2.imread('logger/frame_0001.jpg')\n",
    "\n",
    "img_RGB = cv2.cvtColor(img, cv2.COLOR_BGR2RGB)\n",
    "\n",
    "plt.imshow(img_RGB)\n"
   ]
  },
  {
   "cell_type": "code",
   "execution_count": null,
   "metadata": {
    "colab": {
     "base_uri": "https://localhost:8080/",
     "height": 287
    },
    "executionInfo": {
     "elapsed": 634,
     "status": "ok",
     "timestamp": 1664765329427,
     "user": {
      "displayName": "Takaaki Ishii",
      "userId": "10147196884984815882"
     },
     "user_tz": -540
    },
    "id": "OmCmrKQre73w",
    "outputId": "cc227a79-6b9f-4e5e-8a06-d13825b54cef",
    "pycharm": {
     "name": "#%%\n"
    }
   },
   "outputs": [],
   "source": [
    "plt.gray()\n",
    "im_gray = cv2.cvtColor(img, cv2.COLOR_BGR2GRAY)\n",
    "\n",
    "plt.imshow(im_gray)"
   ]
  },
  {
   "cell_type": "code",
   "execution_count": null,
   "metadata": {
    "colab": {
     "base_uri": "https://localhost:8080/",
     "height": 225
    },
    "executionInfo": {
     "elapsed": 6,
     "status": "ok",
     "timestamp": 1664765329669,
     "user": {
      "displayName": "Takaaki Ishii",
      "userId": "10147196884984815882"
     },
     "user_tz": -540
    },
    "id": "9-wui4KXe752",
    "outputId": "de7e15c8-27f0-4127-c70c-1f8e612bb349",
    "pycharm": {
     "name": "#%%\n"
    }
   },
   "outputs": [],
   "source": [
    "# [y:y+h, x:x+w]\n",
    "img_tr = im_gray[300:800, 5:740]\n",
    "# img_tr1 = im_gray[25:135, 160:350]\n",
    "# img_tr1 = im_gray[25:135, 160:250]\n",
    "# img_tr2 = im_gray[25:135, 570:770]\n",
    "# img_tr2 = im_gray[73:105, 400:500]\n",
    "# img_tr3 = im_gray[106:138, 400:500]\n",
    "# img_tr4 = im_gray[172:200, 400:500]\n",
    "\n",
    "plt.imshow(img_tr)\n",
    "\n",
    "# cv2.imwrite('tirm.jpg', img_tr)"
   ]
  },
  {
   "cell_type": "code",
   "execution_count": null,
   "metadata": {},
   "outputs": [],
   "source": [
    "x = 0\n",
    "y = 100"
   ]
  },
  {
   "cell_type": "code",
   "execution_count": null,
   "metadata": {},
   "outputs": [],
   "source": [
    "'''\n",
    "順番：左から\n",
    "上、左上、右上、中央、左下、右下、下\n",
    "'''"
   ]
  },
  {
   "cell_type": "code",
   "execution_count": null,
   "metadata": {},
   "outputs": [],
   "source": [
    "if img_tr[x+5, y+25]>=150 and img_tr[x+30, y+5]>=150 and img_tr[x+30, y+35]>=150 and img_tr[x+58, y+22]<=150 and img_tr[x+80, y+5]>=150 and img_tr[x+80, y+40]>=150 and img_tr[x+100, y+25]>=150:\n",
    "    print(0)\n",
    "elif img_tr[x+5, y+25]<=150 and img_tr[x+30, y+5]<=150 and img_tr[x+30, y+35]>=150 and img_tr[x+58, y+22]<=150 and img_tr[x+80, y+5]<=150 and img_tr[x+80, y+40]>=150 and img_tr[x+100, y+25]<=150:\n",
    "    print(1)\n",
    "elif img_tr[x+5, y+25]>=150 and img_tr[x+30, y+5]<=150 and img_tr[x+30, y+35]>=150 and img_tr[x+58, y+22]>=150 and img_tr[x+80, y+5]>=150 and img_tr[x+80, y+40]<=150 and img_tr[x+100, y+25]>=150:\n",
    "    print(2)\n",
    "elif img_tr[x+5, y+25]>=150 and img_tr[x+30, y+5]<=150 and img_tr[x+30, y+35]>=150 and img_tr[x+58, y+22]>=150 and img_tr[x+80, y+5]<=150 and img_tr[x+80, y+40]>=150 and img_tr[x+100, y+25]>=150:\n",
    "    print(3)\n",
    "elif img_tr[x+5, y+25]<=150 and img_tr[x+30, y+5]>=150 and img_tr[x+30, y+35]>=150 and img_tr[x+58, y+22]>=150 and img_tr[x+80, y+5]<=150 and img_tr[x+80, y+38]>=150 and img_tr[x+100, y+25]<=150:\n",
    "    print(4)\n",
    "elif img_tr[x+5, y+25]>=150 and img_tr[x+30, y+5]>=150 and img_tr[x+30, y+35]<=150 and img_tr[x+58, y+22]>=150 and img_tr[x+80, y+5]<=150 and img_tr[x+80, y+40]>=150 and img_tr[x+100, y+25]>=150:\n",
    "    print(5)\n",
    "elif img_tr[x+5, y+25]<=150 and img_tr[x+30, y+5]>=150 and img_tr[x+30, y+35]<=150 and img_tr[x+58, y+22]>=150 and img_tr[x+80, y+5]>=150 and img_tr[x+80, y+40]>=150 and img_tr[x+100, y+25]>=150:\n",
    "    print(6)\n",
    "elif img_tr[x+5, y+25]>=150 and img_tr[x+30, y+5]<=150 and img_tr[x+30, y+35]>=150 and img_tr[x+58, y+22]<=150 and img_tr[x+80, y+5]<=150 and img_tr[x+80, y+40]>=150 and img_tr[x+100, y+25]<=150:\n",
    "    print(7)\n",
    "elif img_tr[x+5, y+25]>=150 and img_tr[x+30, y+5]>=150 and img_tr[x+30, y+35]>=150 and img_tr[x+58, y+22]>=150 and img_tr[x+80, y+5]>=150 and img_tr[x+80, y+40]>=150 and img_tr[x+100, y+25]>=150:\n",
    "    print(8)\n",
    "elif img_tr[x+5, y+25]>=150 and img_tr[x+30, y+5]>=150 and img_tr[x+30, y+35]>=150 and img_tr[x+58, y+22]>=150 and img_tr[x+80, y+5]<=150 and img_tr[x+80, y+40]>=150 and img_tr[x+100, y+25]>=150:\n",
    "    print(9)\n",
    "else:\n",
    "    print('error')"
   ]
  },
  {
   "cell_type": "code",
   "execution_count": null,
   "metadata": {},
   "outputs": [],
   "source": [
    "az = [0, 10, 40]\n",
    "\n",
    "for a in az:\n",
    "    print(a)"
   ]
  },
  {
   "cell_type": "code",
   "execution_count": null,
   "metadata": {},
   "outputs": [],
   "source": [
    "lst = []\n",
    "file_lst = []\n",
    "\n",
    "files = glob.glob(\"logger/*\")\n",
    "files.sort()\n",
    "\n",
    "# xy = [0, 90, 140]\n",
    "xy = [0, 100, 150]\n",
    "for y in xy:\n",
    "    \n",
    "    lst = []\n",
    "    file_lst = []\n",
    "\n",
    "    for file in files:\n",
    "        img = cv2.imread(file)\n",
    "        img_RGB = cv2.cvtColor(img, cv2.COLOR_BGR2RGB)\n",
    "        im_gray = cv2.cvtColor(img, cv2.COLOR_BGR2GRAY)\n",
    "\n",
    "        img_tr1 = im_gray[25:135, 160:350]\n",
    "        img_tr2 = im_gray[25:135, 570:770]\n",
    "\n",
    "        img_tr = img_tr2\n",
    "    \n",
    "        x = 0\n",
    "        # y = 0\n",
    "\n",
    "        if img_tr[x+5, y+25]>=150 and img_tr[x+30, y+5]>=150 and img_tr[x+30, y+35]>=150 and img_tr[x+58, y+22]<=150 and img_tr[x+80, y+5]>=150 and img_tr[x+80, y+35]>=150 and img_tr[x+100, y+25]>=150:\n",
    "            lst.append(0)\n",
    "            file_lst.append(file)\n",
    "        elif img_tr[x+5, y+25]<=150 and img_tr[x+30, y+5]<=150 and img_tr[x+30, y+35]>=150 and img_tr[x+58, y+22]<=150 and img_tr[x+80, y+5]<=150 and img_tr[x+80, y+35]>=150 and img_tr[x+100, y+25]<=150:\n",
    "            lst.append(1)\n",
    "            file_lst.append(file)\n",
    "        elif img_tr[x+5, y+25]>=150 and img_tr[x+30, y+5]<=150 and img_tr[x+30, y+35]>=150 and img_tr[x+58, y+22]>=150 and img_tr[x+80, y+5]>=150 and img_tr[x+80, y+35]<=150 and img_tr[x+100, y+25]>=150:\n",
    "            lst.append(2)\n",
    "            file_lst.append(file)\n",
    "        elif img_tr[x+5, y+25]>=150 and img_tr[x+30, y+5]<=150 and img_tr[x+30, y+35]>=150 and img_tr[x+58, y+22]>=150 and img_tr[x+80, y+5]<=150 and img_tr[x+80, y+35]>=150 and img_tr[x+100, y+25]>=150:\n",
    "            lst.append(3)\n",
    "            file_lst.append(file)\n",
    "        elif img_tr[x+5, y+25]<=150 and img_tr[x+30, y+5]>=150 and img_tr[x+30, y+35]>=150 and img_tr[x+58, y+22]>=150 and img_tr[x+80, y+5]<=150 and img_tr[x+80, y+35]>=150 and img_tr[x+100, y+25]<=150:\n",
    "            lst.append(4)\n",
    "            file_lst.append(file)\n",
    "        elif img_tr[x+5, y+25]>=150 and img_tr[x+30, y+5]>=150 and img_tr[x+30, y+35]<=150 and img_tr[x+58, y+22]>=150 and img_tr[x+80, y+5]<=150 and img_tr[x+80, y+35]>=150 and img_tr[x+100, y+25]>=150:\n",
    "            lst.append(5)\n",
    "            file_lst.append(file)\n",
    "        elif img_tr[x+5, y+25]<=150 and img_tr[x+30, y+5]>=150 and img_tr[x+30, y+35]<=150 and img_tr[x+58, y+22]>=150 and img_tr[x+80, y+5]>=150 and img_tr[x+80, y+35]>=150 and img_tr[x+100, y+25]>=150:\n",
    "            lst.append(6)\n",
    "            file_lst.append(file)\n",
    "        elif img_tr[x+5, y+25]>=150 and img_tr[x+30, y+5]<=150 and img_tr[x+30, y+35]>=150 and img_tr[x+58, y+22]<=150 and img_tr[x+80, y+5]<=150 and img_tr[x+80, y+35]>=150 and img_tr[x+100, y+25]<=150:\n",
    "            lst.append(7)\n",
    "            file_lst.append(file)\n",
    "        elif img_tr[x+5, y+25]>=150 and img_tr[x+30, y+5]>=150 and img_tr[x+30, y+35]>=150 and img_tr[x+58, y+22]>=150 and img_tr[x+80, y+5]>=150 and img_tr[x+80, y+35]>=150 and img_tr[x+100, y+25]>=150:\n",
    "            lst.append(8)\n",
    "            file_lst.append(file)\n",
    "        elif img_tr[x+5, y+25]>=150 and img_tr[x+30, y+5]>=150 and img_tr[x+30, y+35]>=150 and img_tr[x+58, y+22]>=150 and img_tr[x+80, y+5]<=150 and img_tr[x+80, y+35]>=150 and img_tr[x+100, y+25]>=150:\n",
    "            lst.append(9)\n",
    "            file_lst.append(file)\n",
    "        else:\n",
    "            lst.append('')\n",
    "            file_lst.append(file)\n",
    "\n",
    "        name = [\"pre\"]\n",
    "        lst_df = pd.DataFrame(lst, columns=name)\n",
    "\n",
    "        name = [\"file\"]\n",
    "        file_df = pd.DataFrame(file_lst, columns=name)\n",
    "\n",
    "        df = pd.concat([file_df, lst_df], axis=1)\n",
    "\n",
    "        df.to_csv('df_' + str(y) + '.csv')"
   ]
  },
  {
   "cell_type": "code",
   "execution_count": null,
   "metadata": {
    "colab": {
     "base_uri": "https://localhost:8080/",
     "height": 225
    },
    "executionInfo": {
     "elapsed": 498,
     "status": "ok",
     "timestamp": 1664765331164,
     "user": {
      "displayName": "Takaaki Ishii",
      "userId": "10147196884984815882"
     },
     "user_tz": -540
    },
    "id": "BfZSrA9Te79y",
    "outputId": "c7065980-21f5-470b-92f2-a5c8385824ea",
    "pycharm": {
     "name": "#%%\n"
    }
   },
   "outputs": [],
   "source": [
    "ret1, dst1 = cv2.threshold(img_tr1, 128, 255, cv2.THRESH_OTSU)\n",
    "ret2, dst2 = cv2.threshold(img_tr2, 128, 255, cv2.THRESH_OTSU)\n",
    "# ret3, dst3 = cv2.threshold(img_tr3, 128, 255, cv2.THRESH_OTSU)\n",
    "# ret4, dst4 = cv2.threshold(img_tr4, 128, 255, cv2.THRESH_OTSU)\n",
    "plt.imshow(dst1)\n",
    "print(ret1)\n",
    "#   th, im_otsu = cv2.threshold(pil2cv(gray_img), 128, 192, cv2.THRESH_OTSU)"
   ]
  },
  {
   "cell_type": "code",
   "execution_count": null,
   "metadata": {
    "colab": {
     "base_uri": "https://localhost:8080/",
     "height": 225
    },
    "executionInfo": {
     "elapsed": 647,
     "status": "ok",
     "timestamp": 1664765332548,
     "user": {
      "displayName": "Takaaki Ishii",
      "userId": "10147196884984815882"
     },
     "user_tz": -540
    },
    "id": "qj0NXHbne8AI",
    "outputId": "4b703d17-7ecc-49e8-dfab-dd11e7a92b41",
    "pycharm": {
     "name": "#%%\n"
    }
   },
   "outputs": [],
   "source": [
    "# 色の反転\n",
    "img_thresh1 = cv2.bitwise_not(img_tr1)\n",
    "img_thresh2 = cv2.bitwise_not(dst2)\n",
    "# img_thresh3 = cv2.bitwise_not(dst3)\n",
    "# img_thresh4 = cv2.bitwise_not(dst4)\n",
    "\n",
    "plt.imshow(img_thresh1)\n",
    "cv2.imwrite('ex_logger.jpg', img_thresh1)"
   ]
  },
  {
   "cell_type": "code",
   "execution_count": null,
   "metadata": {
    "colab": {
     "base_uri": "https://localhost:8080/"
    },
    "executionInfo": {
     "elapsed": 1186,
     "status": "ok",
     "timestamp": 1664765334823,
     "user": {
      "displayName": "Takaaki Ishii",
      "userId": "10147196884984815882"
     },
     "user_tz": -540
    },
    "id": "TsOndGQCfJ_G",
    "outputId": "f3d926e3-728f-43d6-d3a2-36845d0a6f4b",
    "pycharm": {
     "name": "#%%\n"
    }
   },
   "outputs": [],
   "source": [
    "\n",
    "tools = pyocr.get_available_tools()\n",
    "tool = tools[0]\n",
    "\n",
    "# numpy配列の画像をpillowに変換\n",
    "# pil_image = Image.fromarray(dst1)\n",
    "pil_image = Image.fromarray(img_thresh2)\n",
    "\n",
    "txt = tool.image_to_string(\n",
    "  pil_image,\n",
    "  # lang='jpn',\n",
    "  lang='eng',\n",
    "  builder=pyocr.builders.DigitBuilder(tesseract_layout=6)\n",
    "  # builder=pyocr.builders.DigitBuilder(tesseract_layout=11)\n",
    ")\n",
    "print(txt)"
   ]
  },
  {
   "cell_type": "code",
   "execution_count": null,
   "metadata": {
    "colab": {
     "base_uri": "https://localhost:8080/",
     "height": 1000
    },
    "executionInfo": {
     "elapsed": 477427,
     "status": "ok",
     "timestamp": 1664768235647,
     "user": {
      "displayName": "Takaaki Ishii",
      "userId": "10147196884984815882"
     },
     "user_tz": -540
    },
    "id": "W_W9eqg1rPKm",
    "outputId": "75766711-3a0e-4b66-8dbb-27be18f9e8ec",
    "pycharm": {
     "name": "#%%\n"
    }
   },
   "outputs": [],
   "source": [
    "'''\n",
    "画像処理+文字認識\n",
    "'''\n",
    "cl_lst = []\n",
    "file_lst = []\n",
    "engines = pyocr.get_available_tools()\n",
    "engine = engines[0]\n",
    "files = glob.glob(\"yoshimi/*\")\n",
    "files.sort()\n",
    "for file in files:\n",
    "    '''\n",
    "    ===========画像処理開始==========\n",
    "    '''\n",
    "    #グレースケール\n",
    "    img = cv2.imread(file)\n",
    "    # img_RGB = cv2.cvtColor(img, cv2.COLOR_BGR2RGB)\n",
    "    plt.gray()\n",
    "    im_gray = cv2.cvtColor(img, cv2.COLOR_BGR2GRAY)\n",
    "    # img_tr = im_gray[620:660, 650:735]\n",
    "    img_tr1 = im_gray[42:72, 450:500]\n",
    "    img_tr2 = im_gray[73:105, 400:500]\n",
    "    img_tr3 = im_gray[106:138, 400:500]\n",
    "    img_tr4 = im_gray[172:200, 400:500]\n",
    "\n",
    "    #OTSUアルゴリズムで2値化\n",
    "    # th, im_otsu = cv2.threshold(pil2cv(gray_img),\n",
    "                                # 128, 192,\n",
    "                                # cv2.THRESH_OTSU)\n",
    "    # #膨張処理\n",
    "    # kernel = cv2.getStructuringElement(cv2.MORPH_CROSS, (3, 3))\n",
    "    # dilate_img = cv2.dilate(pil2cv(im_otsu), kernel)\n",
    "    #色反転\n",
    "    ret1, dst1 = cv2.threshold(img_tr1, 128, 255, cv2.THRESH_OTSU)\n",
    "    ret2, dst2 = cv2.threshold(img_tr2, 128, 255, cv2.THRESH_OTSU)\n",
    "    ret3, dst3 = cv2.threshold(img_tr3, 128, 255, cv2.THRESH_OTSU)\n",
    "    ret4, dst4 = cv2.threshold(img_tr4, 128, 255, cv2.THRESH_OTSU)\n",
    "    img_thresh1 = cv2.bitwise_not(dst1)\n",
    "    img_thresh2 = cv2.bitwise_not(dst2)\n",
    "    img_thresh3 = cv2.bitwise_not(dst3)\n",
    "    img_thresh4 = cv2.bitwise_not(dst4)\n",
    "    \n",
    "    plt.imshow(img_thresh2)\n",
    "    \n",
    "    a = file[1:]\n",
    "    # print(a)\n",
    "    cv2.imwrite('result/' + a, img_thresh2)\n",
    "    pil_image = Image.fromarray(img_thresh2)\n",
    "    #文字認識\n",
    "    txt = engine.image_to_string(pil_image, lang=\"eng\",\n",
    "                                 builder=pyocr.builders.DigitBuilder(tesseract_layout=6))\n",
    "    # at = txt.find(\"mg\")\n",
    "    print(\"==========\", file, \"==========\")\n",
    "    print(txt)\n",
    "    \n",
    "    if not txt:\n",
    "        cl_lst.append(-100)\n",
    "    else:\n",
    "        cl_lst.append(txt)\n",
    "    \n",
    "    file_lst.append(file)\n",
    "    \n"
   ]
  },
  {
   "cell_type": "code",
   "execution_count": null,
   "metadata": {
    "executionInfo": {
     "elapsed": 603,
     "status": "ok",
     "timestamp": 1664768889305,
     "user": {
      "displayName": "Takaaki Ishii",
      "userId": "10147196884984815882"
     },
     "user_tz": -540
    },
    "id": "caK3HYbosNGT",
    "pycharm": {
     "name": "#%%\n"
    }
   },
   "outputs": [],
   "source": [
    "import pandas as pd\n",
    "cl = pd.DataFrame(cl_lst)\n",
    "f_lst = pd.DataFrame(file_lst)"
   ]
  },
  {
   "cell_type": "code",
   "execution_count": null,
   "metadata": {
    "colab": {
     "base_uri": "https://localhost:8080/",
     "height": 423
    },
    "executionInfo": {
     "elapsed": 317,
     "status": "ok",
     "timestamp": 1664774563727,
     "user": {
      "displayName": "Takaaki Ishii",
      "userId": "10147196884984815882"
     },
     "user_tz": -540
    },
    "id": "ma8ZOImW9Vdm",
    "outputId": "6250d098-1d6f-4031-c26f-3fffcbcb711b",
    "pycharm": {
     "name": "#%%\n"
    }
   },
   "outputs": [],
   "source": [
    "df = pd.concat([f_lst, cl], axis=1)\n",
    "df"
   ]
  },
  {
   "cell_type": "code",
   "execution_count": null,
   "metadata": {
    "executionInfo": {
     "elapsed": 651,
     "status": "ok",
     "timestamp": 1664774674014,
     "user": {
      "displayName": "Takaaki Ishii",
      "userId": "10147196884984815882"
     },
     "user_tz": -540
    },
    "id": "W7txqVWpkLp9",
    "pycharm": {
     "name": "#%%\n"
    }
   },
   "outputs": [],
   "source": [
    "df.to_csv('data.csv')"
   ]
  },
  {
   "cell_type": "code",
   "execution_count": null,
   "metadata": {
    "id": "LJjdwVmWkcAr",
    "pycharm": {
     "name": "#%%\n"
    }
   },
   "outputs": [],
   "source": []
  }
 ],
 "metadata": {
  "colab": {
   "collapsed_sections": [],
   "machine_shape": "hm",
   "provenance": []
  },
  "kernelspec": {
   "display_name": "tensor",
   "language": "python",
   "name": "python3"
  },
  "language_info": {
   "codemirror_mode": {
    "name": "ipython",
    "version": 3
   },
   "file_extension": ".py",
   "mimetype": "text/x-python",
   "name": "python",
   "nbconvert_exporter": "python",
   "pygments_lexer": "ipython3",
   "version": "3.6.8"
  },
  "orig_nbformat": 4,
  "vscode": {
   "interpreter": {
    "hash": "6bfa259300721b9f77f771144db571ce0172455e4c3cef30ab19ec25ac0b25af"
   }
  }
 },
 "nbformat": 4,
 "nbformat_minor": 0
}
