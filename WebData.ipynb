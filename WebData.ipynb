{
 "cells": [
  {
   "cell_type": "code",
   "execution_count": null,
   "metadata": {},
   "outputs": [],
   "source": [
    "import pandas as pd\n",
    "import numpy as np\n",
    "\n",
    "\n",
    "for y in range(18, 20, 1):\n",
    "    for m in range(1, 13, 1):\n",
    "        # 以下のURLは荒川　大芦橋となっています．\n",
    "        url = 'http://www1.river.go.jp/cgi-bin/DspWaterData.exe?KIND=2&ID=303041283308040&BGNDATE=20{}{:02d}01&ENDDATE=20{}{:02d}31&KAWABOU=NO'.format(y, m, y, m)\n",
    "        print(url)\n",
    "        df = pd.read_html(url)\n",
    "\n",
    "        del df[0]\n",
    "        df = pd.DataFrame(np.concatenate(df))\n",
    "\n",
    "        df = df.drop(index=df.index[[0, 1]])\n",
    "        df = df[:-1]\n",
    "        df = df.drop(df.columns[[0]], axis=1)\n",
    "\n",
    "        df.to_csv('river_20{}{:02d}.csv'.format(y, m))\n",
    "\n",
    "\n"
   ]
  },
  {
   "cell_type": "code",
   "execution_count": null,
   "metadata": {},
   "outputs": [],
   "source": [
    "\n",
    "for y in range(15, 20, 1):\n",
    "    for m in range(1, 12, 1):\n",
    "        print('River/ooashi_20{}{:02d}'.format(y, m)) "
   ]
  },
  {
   "cell_type": "code",
   "execution_count": null,
   "metadata": {},
   "outputs": [],
   "source": [
    "import pandas as pd\n",
    "import numpy as np\n",
    "import glob\n",
    "\n",
    "\n",
    "for y in range(18, 20, 1):\n",
    "    for m in range(1, 13, 1):\n",
    "        df = pd.read_csv('river_20{}{:02d}.csv'.format(y, m))\n",
    "        df = df.iloc[:, [1, 2, 3, 4, 5, 6, 7, 8, 9, 10, 11, 12, 13, 14, 15, 16, 17, 18, 19, 20, 21, 22, 23, 24]]\n",
    "        df = np.array(df)\n",
    "        df = df.flatten()\n",
    "        df = pd.DataFrame(df)\n",
    "        df.to_csv('river_20{}{:02d}.csv'.format(y, m))\n"
   ]
  },
  {
   "cell_type": "code",
   "execution_count": null,
   "metadata": {},
   "outputs": [],
   "source": [
    "\n",
    "\n",
    "import pandas as pd\n",
    "import numpy as np\n",
    "import glob\n",
    "\n",
    "def input(data1, data2):\n",
    "    data1 = pd.read_csv(data2)\n",
    "    data1 = pd.DataFrame(data1.iloc[:, [1]])\n",
    "    return data1\n",
    "\n",
    "df = pd.DataFrame()\n",
    "\n",
    "for y in range(18, 20, 1):\n",
    "    for m in range(1, 13, 1):\n",
    "        df1 = []\n",
    "        df1 = input(df1, 'river_20{}{:02d}.csv'.format(y, m))\n",
    "        df = pd.concat([df, df1], axis=0)\n",
    "\n",
    "\n",
    "df.to_csv(\"river.csv\")"
   ]
  }
 ],
 "metadata": {
  "kernelspec": {
   "display_name": "tensor",
   "language": "python",
   "name": "python3"
  },
  "language_info": {
   "codemirror_mode": {
    "name": "ipython",
    "version": 3
   },
   "file_extension": ".py",
   "mimetype": "text/x-python",
   "name": "python",
   "nbconvert_exporter": "python",
   "pygments_lexer": "ipython3",
   "version": "3.8.16"
  }
 },
 "nbformat": 4,
 "nbformat_minor": 2
}
