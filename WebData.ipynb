{
 "cells": [
  {
   "cell_type": "code",
   "execution_count": null,
   "metadata": {},
   "outputs": [],
   "source": [
    "\n",
    "# 特定のURLから水位データを取得し、それをCSVファイルに保存し、後にデータを再加工して最終的に一つのファイルにまとめる\n",
    "\n",
    "\n",
    "import pandas as pd\n",
    "import numpy as np\n",
    "\n",
    "# 指定した年と月の範囲でURLからデータを取得し、CSVに保存する\n",
    "for y in range(18, 20):  # 2018年から2019年まで\n",
    "    for m in range(1, 13):  # 1月から12月まで\n",
    "        # 荒川　大芦橋の水位データのURL\n",
    "        url = f'http://www1.river.go.jp/cgi-bin/DspWaterData.exe?KIND=2&ID=303041283308040&BGNDATE=20{y:02d}{m:02d}01&ENDDATE=20{y:02d}{m:02d}31&KAWABOU=NO'\n",
    "        df = pd.read_html(url)  # URLからデータを読み込む\n",
    "        \n",
    "        # 不要な行や列の削除\n",
    "        df = pd.DataFrame(np.concatenate(df)).drop(index=[0, 1]).drop(columns=[0]).iloc[:-1]\n",
    "        \n",
    "        # CSVファイルに保存\n",
    "        df.to_csv(f'river_20{y:02d}{m:02d}.csv', index=False)\n",
    "\n",
    "# 取得したデータの再加工\n",
    "for y in range(18, 20):  # 2018年から2019年まで\n",
    "    for m in range(1, 13):  # 1月から12月まで\n",
    "        # CSVファイルからデータを読み込む\n",
    "        df = pd.read_csv(f'river_20{y:02d}{m:02d}.csv').iloc[:, 1:]\n",
    "        \n",
    "        # データを一次元化して再保存\n",
    "        df = pd.DataFrame(df.values.flatten())\n",
    "        df.to_csv(f'river_20{y:02d}{m:02d}.csv', index=False)\n",
    "\n",
    "# 全てのデータを一つのDataFrameに統合\n",
    "df = pd.DataFrame()\n",
    "for y in range(18, 20):  # 2018年から2019年まで\n",
    "    for m in range(1, 13):  # 1月から12月まで\n",
    "        # CSVからデータを読み込み、指定した列のみを抽出\n",
    "        df1 = pd.read_csv(f'river_20{y:02d}{m:02d}.csv').iloc[:, [0]]\n",
    "        df = pd.concat([df, df1], axis=0)  # データを結合\n",
    "\n",
    "# 最終的なデータをCSVファイルに保存\n",
    "df.to_csv(\"river.csv\", index=False)\n"
   ]
  }
 ],
 "metadata": {
  "kernelspec": {
   "display_name": "tensor",
   "language": "python",
   "name": "python3"
  },
  "language_info": {
   "codemirror_mode": {
    "name": "ipython",
    "version": 3
   },
   "file_extension": ".py",
   "mimetype": "text/x-python",
   "name": "python",
   "nbconvert_exporter": "python",
   "pygments_lexer": "ipython3",
   "version": "3.8.16"
  }
 },
 "nbformat": 4,
 "nbformat_minor": 2
}
